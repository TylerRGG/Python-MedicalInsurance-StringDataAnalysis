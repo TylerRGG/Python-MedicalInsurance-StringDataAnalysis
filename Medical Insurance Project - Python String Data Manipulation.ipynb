{
 "cells": [
  {
   "cell_type": "markdown",
   "id": "eba6b674",
   "metadata": {},
   "source": [
    "# Medical Insurance Project 🏥🩺\n",
    "### Python String Manipulation & Data Analysis"
   ]
  },
  {
   "cell_type": "markdown",
   "id": "f2b0a6df",
   "metadata": {},
   "source": [
    "### Beginining String Containing the Medical data on patients. 💊"
   ]
  },
  {
   "cell_type": "code",
   "execution_count": null,
   "id": "bdabc3f3",
   "metadata": {},
   "outputs": [],
   "source": [
    "medical_data = \\\n",
    "\"\"\"Marina Allison   ,27   ,   31.1 , \n",
    "#7010.0   ;Markus Valdez   ,   30, \n",
    "22.4,   #4050.0 ;Connie Ballard ,43 \n",
    ",   25.3 , #12060.0 ;Darnell Weber   \n",
    ",   35   , 20.6   , #7500.0;\n",
    "Sylvie Charles   ,22, 22.1 \n",
    ",#3022.0   ;   Vinay Padilla,24,   \n",
    "26.9 ,#4620.0 ;Meredith Santiago, 51   , \n",
    "29.3 ,#16330.0;   Andre Mccarty, \n",
    "19,22.7 , #2900.0 ; \n",
    "Lorena Hodson ,65, 33.1 , #19370.0; \n",
    "Isaac Vu ,34, 24.8,   #7045.0\"\"\""
   ]
  },
  {
   "cell_type": "markdown",
   "id": "beb8f28c",
   "metadata": {},
   "source": [
    "### Data Cleaning 🧼 - Replacing hashtags with dollar signs."
   ]
  },
  {
   "cell_type": "code",
   "execution_count": 7,
   "id": "287cd86d-887f-4c3d-80f0-891f24e201b1",
   "metadata": {},
   "outputs": [
    {
     "name": "stdout",
     "output_type": "stream",
     "text": [
      "Marina Allison   ,27   ,   31.1 , \n",
      "$7010.0   ;Markus Valdez   ,   30, \n",
      "22.4,   $4050.0 ;Connie Ballard ,43 \n",
      ",   25.3 , $12060.0 ;Darnell Weber   \n",
      ",   35   , 20.6   , $7500.0;\n",
      "Sylvie Charles   ,22, 22.1 \n",
      ",$3022.0   ;   Vinay Padilla,24,   \n",
      "26.9 ,$4620.0 ;Meredith Santiago, 51   , \n",
      "29.3 ,$16330.0;   Andre Mccarty, \n",
      "19,22.7 , $2900.0 ; \n",
      "Lorena Hodson ,65, 33.1 , $19370.0; \n",
      "Isaac Vu ,34, 24.8,   $7045.0\n"
     ]
    }
   ],
   "source": [
    "#Replacing hashtags with dollar signs.\n",
    "\n",
    "updated_medical_data = medical_data.replace(\"#\", \"$\")\n",
    "print(updated_medical_data)"
   ]
  },
  {
   "cell_type": "markdown",
   "id": "bed890c9",
   "metadata": {},
   "source": [
    "### Data Cleaning 🧼 - Getting the Number of Records in Dataset containing a dollar sign."
   ]
  },
  {
   "cell_type": "code",
   "execution_count": 8,
   "id": "84c54a68-2cc6-44b6-874c-c28382d61c41",
   "metadata": {},
   "outputs": [
    {
     "name": "stdout",
     "output_type": "stream",
     "text": [
      "There are 10 medical records in the data.\n"
     ]
    }
   ],
   "source": [
    "num_records=0\n",
    "for char in updated_medical_data:\n",
    "    if char == \"$\":\n",
    "        num_records+=1\n",
    "print(\"There are \" + str(num_records) + \" medical records in the data.\")"
   ]
  },
  {
   "cell_type": "markdown",
   "id": "371e970a",
   "metadata": {},
   "source": [
    "### List Sorting 📃- Create a List by the \";\" Delimiter"
   ]
  },
  {
   "cell_type": "code",
   "execution_count": 9,
   "id": "bb9dbb31-0b85-4867-821c-84aba5be048e",
   "metadata": {},
   "outputs": [
    {
     "name": "stdout",
     "output_type": "stream",
     "text": [
      "['Marina Allison   ,27   ,   31.1 , \\n$7010.0   ', 'Markus Valdez   ,   30, \\n22.4,   $4050.0 ', 'Connie Ballard ,43 \\n,   25.3 , $12060.0 ', 'Darnell Weber   \\n,   35   , 20.6   , $7500.0', '\\nSylvie Charles   ,22, 22.1 \\n,$3022.0   ', '   Vinay Padilla,24,   \\n26.9 ,$4620.0 ', 'Meredith Santiago, 51   , \\n29.3 ,$16330.0', '   Andre Mccarty, \\n19,22.7 , $2900.0 ', ' \\nLorena Hodson ,65, 33.1 , $19370.0', ' \\nIsaac Vu ,34, 24.8,   $7045.0']\n"
     ]
    }
   ],
   "source": [
    "#Create a List by the \";\" Delimiter\n",
    "\n",
    "medical_data_split = updated_medical_data.split(\";\")\n",
    "print(medical_data_split)"
   ]
  },
  {
   "cell_type": "markdown",
   "id": "67341f29",
   "metadata": {},
   "source": [
    "### List Sorting 📃- Inserting each Record as it's own List"
   ]
  },
  {
   "cell_type": "code",
   "execution_count": 10,
   "id": "5f4f1ffd-e3a1-431b-9b67-22a16d1655b1",
   "metadata": {},
   "outputs": [
    {
     "name": "stdout",
     "output_type": "stream",
     "text": [
      "[['Marina Allison   ', '27   ', '   31.1 ', ' \\n$7010.0   '], ['Markus Valdez   ', '   30', ' \\n22.4', '   $4050.0 '], ['Connie Ballard ', '43 \\n', '   25.3 ', ' $12060.0 '], ['Darnell Weber   \\n', '   35   ', ' 20.6   ', ' $7500.0'], ['\\nSylvie Charles   ', '22', ' 22.1 \\n', '$3022.0   '], ['   Vinay Padilla', '24', '   \\n26.9 ', '$4620.0 '], ['Meredith Santiago', ' 51   ', ' \\n29.3 ', '$16330.0'], ['   Andre Mccarty', ' \\n19', '22.7 ', ' $2900.0 '], [' \\nLorena Hodson ', '65', ' 33.1 ', ' $19370.0'], [' \\nIsaac Vu ', '34', ' 24.8', '   $7045.0']]\n"
     ]
    }
   ],
   "source": [
    "\n",
    "medical_records=[]\n",
    "for record in medical_data_split:\n",
    "    medical_records.append(record.split(','))\n",
    "print(medical_records)"
   ]
  },
  {
   "cell_type": "markdown",
   "id": "d16e2ebc",
   "metadata": {},
   "source": [
    "### Data Cleaning 🧼 - Getting rid of unwanted Characters "
   ]
  },
  {
   "cell_type": "code",
   "execution_count": 13,
   "id": "566832aa-1cf3-4bcc-8128-4cb7e0193646",
   "metadata": {},
   "outputs": [
    {
     "name": "stdout",
     "output_type": "stream",
     "text": [
      "[['Marina Allison', '27', '31.1', '$7010.0'], ['Markus Valdez', '30', '22.4', '$4050.0'], ['Connie Ballard', '43', '25.3', '$12060.0'], ['Darnell Weber', '35', '20.6', '$7500.0'], ['Sylvie Charles', '22', '22.1', '$3022.0'], ['Vinay Padilla', '24', '26.9', '$4620.0'], ['Meredith Santiago', '51', '29.3', '$16330.0'], ['Andre Mccarty', '19', '22.7', '$2900.0'], ['Lorena Hodson', '65', '33.1', '$19370.0'], ['Isaac Vu', '34', '24.8', '$7045.0']]\n"
     ]
    }
   ],
   "source": [
    "medical_records_clean = []\n",
    "for record in medical_records:\n",
    "    record_clean=[]\n",
    "    for item in record:\n",
    "        record_clean.append(item.strip())\n",
    "    medical_records_clean.append(record_clean)\n",
    "\n",
    "print(medical_records_clean)"
   ]
  },
  {
   "cell_type": "code",
   "execution_count": 20,
   "id": "60883114-e596-46e5-ab30-ea547b36ab4f",
   "metadata": {},
   "outputs": [
    {
     "name": "stdout",
     "output_type": "stream",
     "text": [
      "MARINA ALLISON\n",
      "MARKUS VALDEZ\n",
      "CONNIE BALLARD\n",
      "DARNELL WEBER\n",
      "SYLVIE CHARLES\n",
      "VINAY PADILLA\n",
      "MEREDITH SANTIAGO\n",
      "ANDRE MCCARTY\n",
      "LORENA HODSON\n",
      "ISAAC VU\n"
     ]
    }
   ],
   "source": [
    "#Analyzing the Data - Updating Name String to be uppercase\n",
    "for record in medical_records_clean:\n",
    "    record[0] = record[0].upper()\n",
    "    print(record[0])"
   ]
  },
  {
   "cell_type": "markdown",
   "id": "1f7f28d1",
   "metadata": {},
   "source": [
    "### Analyzing the Data 🔎 - Seperating values into seperate lists"
   ]
  },
  {
   "cell_type": "code",
   "execution_count": 26,
   "id": "534ed316-7b8b-44c9-8d24-0ac55472bfaf",
   "metadata": {},
   "outputs": [],
   "source": [
    "names = []\n",
    "ages = []\n",
    "bmis = []\n",
    "insurance_costs = []\n",
    "\n",
    "for record in medical_records_clean: #Iterating through Medical_Records_Clean, Appending to Names list\n",
    "    names.append(record[0])\n",
    "\n",
    "for record in medical_records_clean: #Iterating through Medical_Records_Clean, Appending to Ages list\n",
    "    ages.append(record[1])\n",
    "\n",
    "for record in medical_records_clean: #Iterating through Medical_Records_Clean, Appending to BMI list\n",
    "    bmis.append(record[2])\n",
    "\n",
    "for record in medical_records_clean: #Iterating through Medical_Records_Clean, Appending to Insurance Costs list\n",
    "    insurance_costs.append(record[3])"
   ]
  },
  {
   "cell_type": "markdown",
   "id": "3eb58f66",
   "metadata": {},
   "source": [
    "### Analyzing the Data 🔎- Printing each new list to review"
   ]
  },
  {
   "cell_type": "code",
   "execution_count": 28,
   "id": "7514c77a-8053-467b-8626-fa109d1fb650",
   "metadata": {},
   "outputs": [
    {
     "name": "stdout",
     "output_type": "stream",
     "text": [
      "['MARINA ALLISON', 'MARKUS VALDEZ', 'CONNIE BALLARD', 'DARNELL WEBER', 'SYLVIE CHARLES', 'VINAY PADILLA', 'MEREDITH SANTIAGO', 'ANDRE MCCARTY', 'LORENA HODSON', 'ISAAC VU']\n",
      "['27', '30', '43', '35', '22', '24', '51', '19', '65', '34']\n",
      "['31.1', '22.4', '25.3', '20.6', '22.1', '26.9', '29.3', '22.7', '33.1', '24.8']\n",
      "['$7010.0', '$4050.0', '$12060.0', '$7500.0', '$3022.0', '$4620.0', '$16330.0', '$2900.0', '$19370.0', '$7045.0']\n"
     ]
    }
   ],
   "source": [
    "print(names)\n",
    "print(ages)\n",
    "print(bmis)\n",
    "print(insurance_costs)"
   ]
  },
  {
   "cell_type": "markdown",
   "id": "59925e62",
   "metadata": {},
   "source": [
    "### Analyzing the Data 🔎 - Getting Average BMI"
   ]
  },
  {
   "cell_type": "code",
   "execution_count": 32,
   "id": "2222a990-d9b6-40ef-af91-a84f26c5f771",
   "metadata": {},
   "outputs": [
    {
     "name": "stdout",
     "output_type": "stream",
     "text": [
      "Average BMI:  64.575\n"
     ]
    }
   ],
   "source": [
    "total_bmi = 0\n",
    "for bmi in bmis:\n",
    "    total_bmi+=float(bmi) #Converting BMI to a float value\n",
    "\n",
    "average_bmi = total_bmi / len(bmi)\n",
    "print(\"Average BMI: \", average_bmi)"
   ]
  },
  {
   "cell_type": "markdown",
   "id": "07018f6f",
   "metadata": {},
   "source": [
    "### Analyzing the Data 🔎 - Getting Average Insurance Costs "
   ]
  },
  {
   "cell_type": "code",
   "execution_count": 43,
   "id": "e8f044e2-0362-4a9c-a9c4-58494930b3b0",
   "metadata": {},
   "outputs": [
    {
     "name": "stdout",
     "output_type": "stream",
     "text": [
      "Average Insurance Cost:  $8390.7\n"
     ]
    }
   ],
   "source": [
    "total_insurance_cost = 0\n",
    "\n",
    "for cost in insurance_costs:\n",
    "    total_insurance_cost+=float(cost.strip().lstrip(\"$\")) #Removing dollars and converting to float for average calc.\n",
    "average_ins_cost = total_insurance_cost / len(insurance_costs)\n",
    "print(\"Average Insurance Cost: \", \"$\"+ str(average_ins_cost))"
   ]
  },
  {
   "cell_type": "markdown",
   "id": "3940ea2a",
   "metadata": {},
   "source": [
    "### Formatted the Output. 📊"
   ]
  },
  {
   "cell_type": "code",
   "execution_count": 48,
   "id": "a9e8d19b-45ca-4cad-b4e5-7eb0c45cf1ee",
   "metadata": {},
   "outputs": [
    {
     "name": "stdout",
     "output_type": "stream",
     "text": [
      "Average BMI:  64.575\n",
      "Average Insurance Cost:  $8390.7\n",
      "Marina Allison is 27 years old with a BMI of 31.1 and an insurance cost of $7010.0\n",
      "Markus Valdez is 30 years old with a BMI of 22.4 and an insurance cost of $4050.0\n",
      "Connie Ballard is 43 years old with a BMI of 25.3 and an insurance cost of $12060.0\n",
      "Darnell Weber is 35 years old with a BMI of 20.6 and an insurance cost of $7500.0\n",
      "Sylvie Charles is 22 years old with a BMI of 22.1 and an insurance cost of $3022.0\n",
      "Vinay Padilla is 24 years old with a BMI of 26.9 and an insurance cost of $4620.0\n",
      "Meredith Santiago is 51 years old with a BMI of 29.3 and an insurance cost of $16330.0\n",
      "Andre Mccarty is 19 years old with a BMI of 22.7 and an insurance cost of $2900.0\n",
      "Lorena Hodson is 65 years old with a BMI of 33.1 and an insurance cost of $19370.0\n",
      "Isaac Vu is 34 years old with a BMI of 24.8 and an insurance cost of $7045.0\n"
     ]
    }
   ],
   "source": [
    "print(\"Average BMI: \", average_bmi)\n",
    "print(\"Average Insurance Cost: \", \"$\"+ str(average_ins_cost))\n",
    "for record in medical_records_clean:\n",
    "    output = \"{name} is {age} years old with a BMI of {BMI} and an insurance cost of {ins_cost}\"\n",
    "    print(output.format(name = record[0].title(), age = record[1], BMI = record[2], ins_cost = record[3]))"
   ]
  }
 ],
 "metadata": {
  "kernelspec": {
   "display_name": "Python 3 (ipykernel)",
   "language": "python",
   "name": "python3"
  },
  "language_info": {
   "codemirror_mode": {
    "name": "ipython",
    "version": 3
   },
   "file_extension": ".py",
   "mimetype": "text/x-python",
   "name": "python",
   "nbconvert_exporter": "python",
   "pygments_lexer": "ipython3",
   "version": "3.9.13"
  }
 },
 "nbformat": 4,
 "nbformat_minor": 5
}
